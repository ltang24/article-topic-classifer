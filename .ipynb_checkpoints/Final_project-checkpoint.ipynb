{
 "cells": [
  {
   "cell_type": "code",
   "execution_count": 22,
   "id": "33a3aca2-fb6b-4776-9b43-22193d8b0061",
   "metadata": {},
   "outputs": [
    {
     "name": "stdout",
     "output_type": "stream",
     "text": [
      "Requirement already satisfied: pandas in c:\\users\\sunyloaner\\anaconda3\\lib\\site-packages (2.0.3)\n",
      "Requirement already satisfied: python-dateutil>=2.8.2 in c:\\users\\sunyloaner\\anaconda3\\lib\\site-packages (from pandas) (2.8.2)\n",
      "Requirement already satisfied: pytz>=2020.1 in c:\\users\\sunyloaner\\anaconda3\\lib\\site-packages (from pandas) (2023.3.post1)\n",
      "Requirement already satisfied: tzdata>=2022.1 in c:\\users\\sunyloaner\\anaconda3\\lib\\site-packages (from pandas) (2023.3)\n",
      "Requirement already satisfied: numpy>=1.21.0 in c:\\users\\sunyloaner\\anaconda3\\lib\\site-packages (from pandas) (1.24.3)\n",
      "Requirement already satisfied: six>=1.5 in c:\\users\\sunyloaner\\anaconda3\\lib\\site-packages (from python-dateutil>=2.8.2->pandas) (1.16.0)\n",
      "Note: you may need to restart the kernel to use updated packages.\n"
     ]
    }
   ],
   "source": [
    "pip install pandas"
   ]
  },
  {
   "cell_type": "code",
   "execution_count": 23,
   "id": "07ebd592-642f-44f2-871a-ee3430b13343",
   "metadata": {},
   "outputs": [
    {
     "name": "stdout",
     "output_type": "stream",
     "text": [
      "Requirement already satisfied: numpy in c:\\users\\sunyloaner\\anaconda3\\lib\\site-packages (1.24.3)\n",
      "Note: you may need to restart the kernel to use updated packages.\n"
     ]
    }
   ],
   "source": [
    "pip install numpy"
   ]
  },
  {
   "cell_type": "code",
   "execution_count": 24,
   "id": "25ba35a5-3ea5-4369-b5d6-ed037828878d",
   "metadata": {},
   "outputs": [
    {
     "name": "stdout",
     "output_type": "stream",
     "text": [
      "Collecting package metadata (current_repodata.json): ...working... done\n",
      "Solving environment: ...working... done\n",
      "\n",
      "# All requested packages already installed.\n",
      "\n",
      "\n",
      "Note: you may need to restart the kernel to use updated packages.\n"
     ]
    },
    {
     "name": "stderr",
     "output_type": "stream",
     "text": [
      "\n",
      "\n",
      "==> WARNING: A newer version of conda exists. <==\n",
      "  current version: 23.7.4\n",
      "  latest version: 23.11.0\n",
      "\n",
      "Please update conda by running\n",
      "\n",
      "    $ conda update -n base -c defaults conda\n",
      "\n",
      "Or to minimize the number of packages updated during conda update use\n",
      "\n",
      "     conda install conda=23.11.0\n",
      "\n",
      "\n"
     ]
    }
   ],
   "source": [
    "conda install scikit-learn"
   ]
  },
  {
   "cell_type": "code",
   "execution_count": 25,
   "id": "132d7e72-71dc-4f7d-9baa-fa8af26f1989",
   "metadata": {},
   "outputs": [
    {
     "name": "stdout",
     "output_type": "stream",
     "text": [
      "Collecting package metadata (current_repodata.json): ...working... done\n",
      "Solving environment: ...working... done\n",
      "\n",
      "# All requested packages already installed.\n",
      "\n",
      "\n",
      "Note: you may need to restart the kernel to use updated packages.\n"
     ]
    },
    {
     "name": "stderr",
     "output_type": "stream",
     "text": [
      "\n",
      "\n",
      "==> WARNING: A newer version of conda exists. <==\n",
      "  current version: 23.7.4\n",
      "  latest version: 23.11.0\n",
      "\n",
      "Please update conda by running\n",
      "\n",
      "    $ conda update -n base -c defaults conda\n",
      "\n",
      "Or to minimize the number of packages updated during conda update use\n",
      "\n",
      "     conda install conda=23.11.0\n",
      "\n",
      "\n"
     ]
    }
   ],
   "source": [
    "conda install wordcloud"
   ]
  },
  {
   "cell_type": "code",
   "execution_count": 26,
   "id": "1ffdeff9-b694-4bda-b28b-c48a2f49b147",
   "metadata": {},
   "outputs": [
    {
     "name": "stdout",
     "output_type": "stream",
     "text": [
      "Requirement already satisfied: seaborn in c:\\users\\sunyloaner\\anaconda3\\lib\\site-packages (0.12.2)\n",
      "Requirement already satisfied: numpy!=1.24.0,>=1.17 in c:\\users\\sunyloaner\\anaconda3\\lib\\site-packages (from seaborn) (1.24.3)\n",
      "Requirement already satisfied: pandas>=0.25 in c:\\users\\sunyloaner\\anaconda3\\lib\\site-packages (from seaborn) (2.0.3)\n",
      "Requirement already satisfied: matplotlib!=3.6.1,>=3.1 in c:\\users\\sunyloaner\\anaconda3\\lib\\site-packages (from seaborn) (3.7.2)\n",
      "Requirement already satisfied: contourpy>=1.0.1 in c:\\users\\sunyloaner\\anaconda3\\lib\\site-packages (from matplotlib!=3.6.1,>=3.1->seaborn) (1.0.5)\n",
      "Requirement already satisfied: cycler>=0.10 in c:\\users\\sunyloaner\\anaconda3\\lib\\site-packages (from matplotlib!=3.6.1,>=3.1->seaborn) (0.11.0)\n",
      "Requirement already satisfied: fonttools>=4.22.0 in c:\\users\\sunyloaner\\anaconda3\\lib\\site-packages (from matplotlib!=3.6.1,>=3.1->seaborn) (4.25.0)\n",
      "Requirement already satisfied: kiwisolver>=1.0.1 in c:\\users\\sunyloaner\\anaconda3\\lib\\site-packages (from matplotlib!=3.6.1,>=3.1->seaborn) (1.4.4)\n",
      "Requirement already satisfied: packaging>=20.0 in c:\\users\\sunyloaner\\anaconda3\\lib\\site-packages (from matplotlib!=3.6.1,>=3.1->seaborn) (23.1)\n",
      "Requirement already satisfied: pillow>=6.2.0 in c:\\users\\sunyloaner\\anaconda3\\lib\\site-packages (from matplotlib!=3.6.1,>=3.1->seaborn) (10.0.1)\n",
      "Requirement already satisfied: pyparsing<3.1,>=2.3.1 in c:\\users\\sunyloaner\\anaconda3\\lib\\site-packages (from matplotlib!=3.6.1,>=3.1->seaborn) (3.0.9)\n",
      "Requirement already satisfied: python-dateutil>=2.7 in c:\\users\\sunyloaner\\anaconda3\\lib\\site-packages (from matplotlib!=3.6.1,>=3.1->seaborn) (2.8.2)\n",
      "Requirement already satisfied: pytz>=2020.1 in c:\\users\\sunyloaner\\anaconda3\\lib\\site-packages (from pandas>=0.25->seaborn) (2023.3.post1)\n",
      "Requirement already satisfied: tzdata>=2022.1 in c:\\users\\sunyloaner\\anaconda3\\lib\\site-packages (from pandas>=0.25->seaborn) (2023.3)\n",
      "Requirement already satisfied: six>=1.5 in c:\\users\\sunyloaner\\anaconda3\\lib\\site-packages (from python-dateutil>=2.7->matplotlib!=3.6.1,>=3.1->seaborn) (1.16.0)\n",
      "Note: you may need to restart the kernel to use updated packages.\n"
     ]
    }
   ],
   "source": [
    "pip install seaborn\n"
   ]
  },
  {
   "cell_type": "code",
   "execution_count": 17,
   "id": "4a76e5ba-a79e-482a-af47-7c0446ecc02f",
   "metadata": {},
   "outputs": [
    {
     "name": "stdout",
     "output_type": "stream",
     "text": [
      "Requirement already satisfied: newspaper3k in /Users/sathyax09/anaconda3/envs/python_project/lib/python3.10/site-packages (0.2.8)\n",
      "Requirement already satisfied: beautifulsoup4>=4.4.1 in /Users/sathyax09/anaconda3/envs/python_project/lib/python3.10/site-packages (from newspaper3k) (4.12.2)\n",
      "Requirement already satisfied: Pillow>=3.3.0 in /Users/sathyax09/anaconda3/envs/python_project/lib/python3.10/site-packages (from newspaper3k) (10.0.1)\n",
      "Requirement already satisfied: PyYAML>=3.11 in /Users/sathyax09/anaconda3/envs/python_project/lib/python3.10/site-packages (from newspaper3k) (6.0.1)\n",
      "Requirement already satisfied: cssselect>=0.9.2 in /Users/sathyax09/anaconda3/envs/python_project/lib/python3.10/site-packages (from newspaper3k) (1.2.0)\n",
      "Requirement already satisfied: lxml>=3.6.0 in /Users/sathyax09/anaconda3/envs/python_project/lib/python3.10/site-packages (from newspaper3k) (4.9.3)\n",
      "Requirement already satisfied: nltk>=3.2.1 in /Users/sathyax09/anaconda3/envs/python_project/lib/python3.10/site-packages (from newspaper3k) (3.8.1)\n",
      "Requirement already satisfied: requests>=2.10.0 in /Users/sathyax09/anaconda3/envs/python_project/lib/python3.10/site-packages (from newspaper3k) (2.31.0)\n",
      "Requirement already satisfied: feedparser>=5.2.1 in /Users/sathyax09/anaconda3/envs/python_project/lib/python3.10/site-packages (from newspaper3k) (6.0.10)\n",
      "Requirement already satisfied: tldextract>=2.0.1 in /Users/sathyax09/anaconda3/envs/python_project/lib/python3.10/site-packages (from newspaper3k) (5.1.1)\n",
      "Requirement already satisfied: feedfinder2>=0.0.4 in /Users/sathyax09/anaconda3/envs/python_project/lib/python3.10/site-packages (from newspaper3k) (0.0.4)\n",
      "Requirement already satisfied: jieba3k>=0.35.1 in /Users/sathyax09/anaconda3/envs/python_project/lib/python3.10/site-packages (from newspaper3k) (0.35.1)\n",
      "Requirement already satisfied: python-dateutil>=2.5.3 in /Users/sathyax09/anaconda3/envs/python_project/lib/python3.10/site-packages (from newspaper3k) (2.8.2)\n",
      "Requirement already satisfied: tinysegmenter==0.3 in /Users/sathyax09/anaconda3/envs/python_project/lib/python3.10/site-packages (from newspaper3k) (0.3)\n",
      "Requirement already satisfied: soupsieve>1.2 in /Users/sathyax09/anaconda3/envs/python_project/lib/python3.10/site-packages (from beautifulsoup4>=4.4.1->newspaper3k) (2.5)\n",
      "Requirement already satisfied: six in /Users/sathyax09/anaconda3/envs/python_project/lib/python3.10/site-packages (from feedfinder2>=0.0.4->newspaper3k) (1.16.0)\n",
      "Requirement already satisfied: sgmllib3k in /Users/sathyax09/anaconda3/envs/python_project/lib/python3.10/site-packages (from feedparser>=5.2.1->newspaper3k) (1.0.0)\n",
      "Requirement already satisfied: click in /Users/sathyax09/anaconda3/envs/python_project/lib/python3.10/site-packages (from nltk>=3.2.1->newspaper3k) (8.1.7)\n",
      "Requirement already satisfied: joblib in /Users/sathyax09/anaconda3/envs/python_project/lib/python3.10/site-packages (from nltk>=3.2.1->newspaper3k) (1.2.0)\n",
      "Requirement already satisfied: regex>=2021.8.3 in /Users/sathyax09/anaconda3/envs/python_project/lib/python3.10/site-packages (from nltk>=3.2.1->newspaper3k) (2023.10.3)\n",
      "Requirement already satisfied: tqdm in /Users/sathyax09/anaconda3/envs/python_project/lib/python3.10/site-packages (from nltk>=3.2.1->newspaper3k) (4.65.0)\n",
      "Requirement already satisfied: charset-normalizer<4,>=2 in /Users/sathyax09/anaconda3/envs/python_project/lib/python3.10/site-packages (from requests>=2.10.0->newspaper3k) (2.0.4)\n",
      "Requirement already satisfied: idna<4,>=2.5 in /Users/sathyax09/anaconda3/envs/python_project/lib/python3.10/site-packages (from requests>=2.10.0->newspaper3k) (3.4)\n",
      "Requirement already satisfied: urllib3<3,>=1.21.1 in /Users/sathyax09/anaconda3/envs/python_project/lib/python3.10/site-packages (from requests>=2.10.0->newspaper3k) (1.26.18)\n",
      "Requirement already satisfied: certifi>=2017.4.17 in /Users/sathyax09/anaconda3/envs/python_project/lib/python3.10/site-packages (from requests>=2.10.0->newspaper3k) (2023.11.17)\n",
      "Requirement already satisfied: requests-file>=1.4 in /Users/sathyax09/anaconda3/envs/python_project/lib/python3.10/site-packages (from tldextract>=2.0.1->newspaper3k) (1.5.1)\n",
      "Requirement already satisfied: filelock>=3.0.8 in /Users/sathyax09/anaconda3/envs/python_project/lib/python3.10/site-packages (from tldextract>=2.0.1->newspaper3k) (3.13.1)\n",
      "Note: you may need to restart the kernel to use updated packages.\n"
     ]
    }
   ],
   "source": [
    "pip install newspaper3k\n"
   ]
  },
  {
   "cell_type": "markdown",
   "id": "8da0744b-340e-49cb-9703-ec67b094bf8f",
   "metadata": {},
   "source": [
    "### "
   ]
  },
  {
   "cell_type": "code",
   "execution_count": 23,
   "id": "0a2fcfe4-c26d-462b-8f4d-3832d53c954c",
   "metadata": {},
   "outputs": [
    {
     "name": "stdout",
     "output_type": "stream",
     "text": [
      "Best Model: SVM\n",
      "Evaluation Results:\n",
      "KNN: Accuracy=0.950561797752809, Precision=0.9513277575962377\n",
      "Logistic Regression: Accuracy=0.9752808988764045, Precision=0.9758469277820607\n",
      "SVM: Accuracy=0.9775280898876404, Precision=0.9779034276220285\n",
      "Decision Tree: Accuracy=0.8157303370786517, Precision=0.8191505951849805\n"
     ]
    },
    {
     "name": "stdin",
     "output_type": "stream",
     "text": [
      "Enter a piece of text:  Alaska Air (ALK) on Sunday announced it will buy rival Hawaiian Airlines (HA) for $1.9 billion.  The acquisition was the culmination of “several months” of negotiations, according to Alaska Airlines CEO Ben Minicucci. It will include $900 million in Hawaiian Airlines debt.\n"
     ]
    },
    {
     "name": "stdout",
     "output_type": "stream",
     "text": [
      "Predicted category: business\n"
     ]
    },
    {
     "name": "stdin",
     "output_type": "stream",
     "text": [
      "Is this prediction correct? (yes/no):  yes\n"
     ]
    }
   ],
   "source": [
    "import pandas as pd\n",
    "from sklearn.model_selection import train_test_split\n",
    "from sklearn.feature_extraction.text import TfidfVectorizer\n",
    "from sklearn.neighbors import KNeighborsClassifier\n",
    "from sklearn.tree import DecisionTreeClassifier\n",
    "from sklearn.linear_model import LogisticRegression\n",
    "from sklearn.svm import SVC\n",
    "from sklearn.metrics import accuracy_score, precision_score\n",
    "from wordcloud import WordCloud\n",
    "import matplotlib.pyplot as plt\n",
    "import pickle\n",
    "\n",
    "\n",
    "\n",
    "\n",
    "# Load the dataset\n",
    "data = pd.read_csv('bbc-news-data.csv', sep='\\t', header=None, names=['Category', 'Filename', 'Title', 'Content'])\n",
    "\n",
    "# Split data into train, test, and validation sets\n",
    "# (Code for splitting data)\n",
    "# Split data into train, test, and validation sets\n",
    "train_data, test_val_data = train_test_split(data, test_size=0.4, random_state=42)\n",
    "test_data, val_data = train_test_split(test_val_data, test_size=0.5, random_state=42)\n",
    "\n",
    "\n",
    "train_data, test_val_data = train_test_split(data, test_size=0.4, random_state=42)\n",
    "test_data, val_data = train_test_split(test_val_data, test_size=0.5, random_state=42)\n",
    "\n",
    "# Vectorize text data\n",
    "vectorizer = TfidfVectorizer(stop_words='english')\n",
    "X_train = vectorizer.fit_transform(train_data['Content'])\n",
    "y_train = train_data['Category']\n",
    "\n",
    "X_test = vectorizer.transform(test_data['Content'])\n",
    "y_test = test_data['Category']\n",
    "\n",
    "X_val = vectorizer.transform(val_data['Content'])\n",
    "y_val = val_data['Category']\n",
    "\n",
    "\n",
    "\n",
    "# Train different classifiers\n",
    "classifiers = {\n",
    "    'KNN': KNeighborsClassifier(),\n",
    "    'Logistic Regression': LogisticRegression(max_iter=1000),\n",
    "    'SVM': SVC(kernel='linear', probability=True),\n",
    "    'Decision Tree': DecisionTreeClassifier()\n",
    "}\n",
    "\n",
    "results = {}\n",
    "for name, clf in classifiers.items():\n",
    "    clf.fit(X_train, y_train)\n",
    "    # (Code for evaluating models and storing results)\n",
    "    y_pred = clf.predict(X_test)\n",
    "    accuracy = accuracy_score(y_test, y_pred)\n",
    "    precision = precision_score(y_test, y_pred, average='weighted')\n",
    "    results[name] = {'Accuracy': accuracy, 'Precision': precision}\n",
    "\n",
    "if results:  # Check if 'results' is not empty\n",
    "    best_model = max(results, key=lambda x: results[x]['Accuracy'])\n",
    "    print(f\"Best Model: {best_model}\")\n",
    "    print(\"Evaluation Results:\")\n",
    "    for model, metrics in results.items():\n",
    "        print(f\"{model}: Accuracy={metrics['Accuracy']}, Precision={metrics['Precision']}\")\n",
    "\n",
    "    # Save the best trained model to a pickle file\n",
    "    with open('best_trained_model.pkl', 'wb') as file:\n",
    "        pickle.dump(classifiers[best_model], file)\n",
    "else:\n",
    "    print(\"No models were trained or an error occurred during training.\")\n",
    "# # Get the best model\n",
    "# best_model = max(results, key=lambda x: results[x]['Accuracy'])\n",
    "\n",
    "# Load the best trained model from the pickle file\n",
    "with open('best_trained_model.pkl', 'rb') as file:\n",
    "    best_trained_model = pickle.load(file)\n",
    "\n",
    "user_satisfied = False\n",
    "while not user_satisfied:\n",
    "    user_input = input(\"Enter a piece of text: \")\n",
    "    predicted_category = best_trained_model.predict(vectorizer.transform([user_input]))[0]\n",
    "    print(f\"Predicted category: {predicted_category}\")\n",
    "    is_correct = input(\"Is this prediction correct? (yes/no): \").lower().strip()\n",
    "    if is_correct == 'no':\n",
    "        correct_category = input(\"Enter the correct category: \")\n",
    "        # Add user input and its correct category to training data\n",
    "        new_row = {'Content': user_input, 'Category': correct_category}\n",
    "        train_data = pd.concat([train_data, pd.DataFrame([new_row])], ignore_index=True)\n",
    "        # Update X_train, y_train\n",
    "        X_train = vectorizer.fit_transform(train_data['Content'])\n",
    "        y_train = train_data['Category']\n",
    "        for name, clf in classifiers.items():\n",
    "            clf.fit(X_train, y_train)\n",
    "            # (Code for evaluating models and storing results)\n",
    "        best_model = max(results, key=lambda x: results[x]['Accuracy'])\n",
    "        print(f\"Best Model: {best_model}\")\n",
    "        # Show updated evaluation results\n",
    "        print(\"Updated Evaluation Results:\")\n",
    "        for model, metrics in results.items():\n",
    "            print(f\"{model}: Accuracy={metrics['Accuracy']}, Precision={metrics['Precision']}\")\n",
    "        # Update the pickle file with the best trained model\n",
    "        with open('best_trained_model.pkl', 'wb') as file:\n",
    "            pickle.dump(classifiers[best_model], file)\n",
    "    else:\n",
    "        user_satisfied = True\n",
    "\n",
    "\n"
   ]
  },
  {
   "cell_type": "code",
   "execution_count": null,
   "id": "bc574398-c18b-4699-bad1-6558fc9eba9f",
   "metadata": {},
   "outputs": [],
   "source": []
  }
 ],
 "metadata": {
  "kernelspec": {
   "display_name": "Python 3 (ipykernel)",
   "language": "python",
   "name": "python3"
  },
  "language_info": {
   "codemirror_mode": {
    "name": "ipython",
    "version": 3
   },
   "file_extension": ".py",
   "mimetype": "text/x-python",
   "name": "python",
   "nbconvert_exporter": "python",
   "pygments_lexer": "ipython3",
   "version": "3.10.13"
  }
 },
 "nbformat": 4,
 "nbformat_minor": 5
}
